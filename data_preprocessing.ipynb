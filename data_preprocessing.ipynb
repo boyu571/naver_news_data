{
 "cells": [
  {
   "cell_type": "code",
   "execution_count": 77,
   "metadata": {},
   "outputs": [],
   "source": [
    "import numpy as np\n",
    "import requests\n",
    "from bs4 import BeautifulSoup\n",
    "import time\n",
    "import re\n",
    "import pandas as pd\n",
    "from tqdm import tqdm\n",
    "\n",
    "headers = {\"User-Agent\": \"Mozilla/5.0 (Windows NT 10.0; Win64; x64) Chrome/98.0.4758.102\"}"
   ]
  },
  {
   "cell_type": "code",
   "execution_count": 78,
   "metadata": {},
   "outputs": [],
   "source": [
    "def makeUrl(search, start_date, end_date, start_pg=1, end_pg=2):\n",
    "    date_part = \"&pd=3&ds=\" + start_date + \"&de=\" + end_date\n",
    "    return [\"https://search.naver.com/search.naver?where=news&sm=tab_pge&query=\" + search + date_part + \"&sort=2&start=\" + str((i - 1) * 10 + 1) for i in range(start_pg, end_pg + 1)]"
   ]
  },
  {
   "cell_type": "code",
   "execution_count": 79,
   "metadata": {},
   "outputs": [],
   "source": [
    "def get_naver_articles(urls):\n",
    "    articles, titles, dates, press = [], [], [], []\n",
    "    \n",
    "    for url in urls:\n",
    "        html = requests.get(url, headers=headers)\n",
    "        soup = BeautifulSoup(html.text, \"html.parser\")\n",
    "\n",
    "        article_links = [link.attrs['href'] for link in soup.select(\"div.group_news > ul.list_news > li div.news_area > div.news_info > div.info_group > a.info\")]\n",
    "        article_titles = [title.text for title in soup.select(\".news_tit\")]\n",
    "        article_infos = [info.text for info in soup.select(\".info\")]\n",
    "\n",
    "        new_urls = []\n",
    "        idx = 0\n",
    "\n",
    "        while idx < len(article_links) - 1:\n",
    "            if 'news.naver.com' in article_links[idx]:\n",
    "                new_urls.append(article_links[idx])\n",
    "                idx += 1\n",
    "            elif 'news.naver.com' in article_links[idx + 1]:\n",
    "                new_urls.append(article_links[idx + 1])\n",
    "                idx += 2\n",
    "            else:\n",
    "                new_urls.append(article_links[idx])\n",
    "                idx += 1\n",
    "\n",
    "        # 마지막 요소 처리\n",
    "        if idx == len(article_links) - 1 and 'news.naver.com' not in new_urls[-1]:\n",
    "            new_urls.append(article_links[idx])\n",
    "\n",
    "        date_pattern = re.compile(r\"\\d{4}\\.\\d{2}\\.\\d{2}\")\n",
    "\n",
    "        current_dates = []\n",
    "        current_press = []\n",
    "\n",
    "        for idx, info in enumerate(article_infos):\n",
    "            match = date_pattern.search(info)\n",
    "            if match:\n",
    "                current_dates.append(match.group(0))\n",
    "                \n",
    "                if idx > 0:  # 인덱스 0 앞에는 데이터가 없으므로 idx > 0 조건 추가\n",
    "                    current_press.append(article_infos[idx - 1])\n",
    "\n",
    "        articles.extend(new_urls)\n",
    "        titles.extend(article_titles)\n",
    "        dates.extend(current_dates)\n",
    "        press.extend(current_press)\n",
    "\n",
    "        time.sleep(1)\n",
    "        \n",
    "    return articles, titles, dates, press"
   ]
  },
  {
   "cell_type": "code",
   "execution_count": 80,
   "metadata": {},
   "outputs": [],
   "source": [
    "def get_article_contents(article_urls):\n",
    "    contents = []\n",
    "    article_time = []  # 이름 변경\n",
    "    for url in tqdm(article_urls):\n",
    "        news = requests.get(url, headers=headers)\n",
    "        soup = BeautifulSoup(news.text, \"html.parser\")\n",
    "        \n",
    "        content = soup.select(\"#dic_area\") or soup.select(\"#articeBody\")\n",
    "        cleaned_content = re.sub('<[^>]*>', '', ''.join(str(item) for item in content)).replace(\"flash 오류를 우회하기 위한 함수 추가function _flash_removeCallback() {}\", '')\n",
    "        contents.append(cleaned_content)\n",
    "        \n",
    "        try:\n",
    "            date = soup.select_one(\"div#ct> div.media_end_head.go_trans > div.media_end_head_info.nv_notrans > div.media_end_head_info_datestamp > div > span\").attrs['data-date-time']\n",
    "        except AttributeError:\n",
    "            date = re.sub('<[^>]*>', '', str(soup.select_one(\"#content > div.end_ct > div > div.article_info > span > em\")))\n",
    "        article_time.append(date)  # 이름 변경\n",
    "    \n",
    "    return contents, article_time  # 이름 변경\n"
   ]
  },
  {
   "cell_type": "code",
   "execution_count": 82,
   "metadata": {},
   "outputs": [
    {
     "name": "stderr",
     "output_type": "stream",
     "text": [
      "100%|██████████| 20/20 [00:11<00:00,  1.72it/s]"
     ]
    },
    {
     "name": "stdout",
     "output_type": "stream",
     "text": [
      "          date    press                                               link  \\\n",
      "0   2017.01.01     전자신문  https://n.news.naver.com/mnews/article/030/000...   \n",
      "1   2017.01.01   39면 1단  https://n.news.naver.com/mnews/article/030/000...   \n",
      "2   2017.01.01   울산매일신문                              http://www.iusm.co.kr   \n",
      "3   2017.01.02   4면 TOP  https://n.news.naver.com/mnews/article/029/000...   \n",
      "4   2017.01.03     이데일리  https://n.news.naver.com/mnews/article/018/000...   \n",
      "5   2017.01.03   지디넷코리아  https://n.news.naver.com/mnews/article/092/000...   \n",
      "6   2017.01.03     IT조선                              http://it.chosun.com/   \n",
      "7   2017.01.03   아이뉴스24  https://n.news.naver.com/mnews/article/031/000...   \n",
      "8   2017.01.03     국방일보                        http://kookbang.dema.mil.kr   \n",
      "9   2017.01.03   A2면 1단  https://n.news.naver.com/mnews/article/015/000...   \n",
      "10  2017.01.04    오마이뉴스  https://n.news.naver.com/mnews/article/047/000...   \n",
      "11  2017.01.05     이데일리  https://n.news.naver.com/mnews/article/018/000...   \n",
      "12  2017.01.05    프라임경제                         http://www.newsprime.co.kr   \n",
      "13  2017.01.05     케이벤치                             http://www.kbench.com/   \n",
      "14  2017.01.05  16면 TOP  https://n.news.naver.com/mnews/article/029/000...   \n",
      "15  2017.01.06     시사저널                          http://www.sisapress.com/   \n",
      "16  2017.01.06   디지털데일리  https://n.news.naver.com/mnews/article/138/000...   \n",
      "17  2017.01.06     이데일리  https://n.news.naver.com/mnews/article/018/000...   \n",
      "18  2017.01.07     노컷뉴스  https://n.news.naver.com/mnews/article/079/000...   \n",
      "\n",
      "                                              title  \\\n",
      "0                           [2017 국제 핫이슈]블록체인 기술 확산   \n",
      "1                       [신년기획]블록체인, 금융권 넘어 IT기업도 관심   \n",
      "2   [2017 신년특집] 세계 금융의 대변화-화폐없는 시대가 온다 디지털 가상화폐 ...   \n",
      "3                 블록체인 등 최신 핀테크 기술 도입… `금융 한류` 일으키자   \n",
      "4                         비트코인, 3년만에 처음으로 1000달러 돌파   \n",
      "5                       '암호화 화폐' 비트코인, 3년만에 1천달러 돌파   \n",
      "6                  비즈니스로 진화한 사이버 범죄, ‘한국형 랜섬웨어’ 현실로   \n",
      "7                             KISA, 암호기술팀·블록체인TF 신설   \n",
      "8                 교황청의 문장.잉글랜드 국기 모두 전쟁에서 만들어진 ‘심벌’   \n",
      "9                                   비트코인 1000달러 넘었다   \n",
      "10                          김기춘 위기에 빠트린 사건 세 가지의 결말   \n",
      "11                        비트코인 사상최고가…中 자본통제에 `풍선효과`   \n",
      "12                         비트코인 사상 최고치 경신…관련주 '오름세'   \n",
      "13             국내 비트코인 역대 최고가 갱신…1비트코인 당 '140만원' 돌파   \n",
      "14                    돈 대신 인질 요구하는 랜섬웨어, 범행방식 바뀐 이유   \n",
      "15                      시작은 ‘최초’지만 나중은 ‘최고’ 되는 기술벤처   \n",
      "16               [2017년 신년기획] 강해진 랜섬웨어, ‘인질극’은 계속된다   \n",
      "17                 비트코인 큰손은 중국?… 반나절새 위안화↗비트코인↘ 배후설   \n",
      "18                   '아직도 보험청구서 작성하세요?'…블록체인 기술로 OK   \n",
      "\n",
      "                                              content                 time  \n",
      "0   \\n\\t\\t\\t블록체인은 `제2의 인터넷` `넥스트 인터넷`으로 불린다. 새해에는 ...  2017-01-01 12:03:13  \n",
      "1   \\n\\t\\t\\t“블록체인은 인터넷 이후 나온 가장 혁신적이며 파괴적인 기술이다.”블...  2017-01-01 16:03:04  \n",
      "2                                                                     None  \n",
      "3   \\n올 세계 은행 80% '블록체인' 도입 전망금융회사 거래 비용 약 30% 절감 ...  2017-01-02 17:04:01  \n",
      "4   \\n\\t\\t\\t[이데일리 김경민 기자] 디지털 화폐인 비트코인 가격이 3년 만에 처...  2017-01-03 07:28:03  \n",
      "5   \\n\\t\\t\\t(지디넷코리아=손경호 기자)전 세계에서 가장 많이 쓰이고 있는 암호화...  2017-01-03 10:49:02  \n",
      "6                                                                     None  \n",
      "7   \\n\\t\\t\\t&lt;아이뉴스24&gt;[아이뉴스24 성지은기자] 한국인터넷진흥원(...  2017-01-03 16:48:03  \n",
      "8                                                                     None  \n",
      "9   \\n2013년 11월 이후 최고\"중국 위안화 약세 때문\"[ 뉴욕=이심기 기자  ] ...  2017-01-03 18:33:58  \n",
      "10  \\n[김당의 나까프 ⑥] '신(新) 김기춘뎐' (3) : '법꾸라지'는 법망을 어떻...  2017-01-04 11:10:02  \n",
      "11  \\n\\t\\t\\t[이데일리 김경민 기자] 디지털 화폐인 비트코인 가격이 3년여 만에 ...  2017-01-05 09:43:03  \n",
      "12                                                                    None  \n",
      "13                                                                    None  \n",
      "14  \\n금품 요구서 수법 갈수록 다양피해 대신할 인질 2명 지목 땐피해자에 복호화 키 ...  2017-01-05 17:06:09  \n",
      "15                                                                    None  \n",
      "16  \\n\\n\\n\\n\\n\\n\\n[2017년 기획/불확실성에 대응하라  보안②][디지털데일...  2017-01-06 14:09:27  \n",
      "17  \\n\\t\\t\\t[이데일리 김형욱 기자] 비트코인이 6일 새벽(아시아 시간 기준) 반...  2017-01-06 15:26:02  \n",
      "18  \\n스타트업 '인슈레스'…블록체인 플랫폼으로 '보험금 자동지급' [CBS노컷뉴스 정...  2017-01-07 05:01:03  \n"
     ]
    },
    {
     "name": "stderr",
     "output_type": "stream",
     "text": [
      "\n"
     ]
    }
   ],
   "source": [
    "def main():\n",
    "    search = input(\"검색할 키워드를 입력해주세요:\")\n",
    "    start_date = input(\"\\n크롤링할 시작 날짜를 입력해주세요. ex)2022.01.01:\")\n",
    "    end_date = input(\"\\n크롤링할 종료 날짜를 입력해주세요. ex)2022.12.31:\")\n",
    "\n",
    "    urls = makeUrl(search, start_date, end_date)\n",
    "    article_urls, article_titles, article_dates, article_press = get_naver_articles(urls)\n",
    "    \n",
    "    contents, article_time = get_article_contents(article_urls)  # 이름 변경\n",
    "    \n",
    "    df = pd.DataFrame({'date': article_dates, 'time': article_time, 'title': article_titles, 'content': contents,'press': article_press, 'link': article_urls })  # 이름 변경\n",
    "    df.drop_duplicates(keep='first', inplace=True, ignore_index=True)\n",
    "    return df\n",
    "\n",
    "if __name__ == \"__main__\":\n",
    "    result_df = main()\n",
    "    print(result_df)"
   ]
  },
  {
   "cell_type": "code",
   "execution_count": 84,
   "metadata": {},
   "outputs": [],
   "source": [
    "#데이터 프레임 저장\n",
    "filename = '{}_{}_{}.csv'.format(search, start_date.replace(\".\", \"\"), end_date.replace(\".\", \"\"))\n",
    "result_df.to_csv(filename, encoding='utf-8-sig', index=False)"
   ]
  },
  {
   "cell_type": "code",
   "execution_count": 75,
   "metadata": {},
   "outputs": [
    {
     "name": "stderr",
     "output_type": "stream",
     "text": [
      "  0%|          | 0/20 [00:00<?, ?it/s]"
     ]
    },
    {
     "name": "stdout",
     "output_type": "stream",
     "text": [
      "Length of article_urls: 20\n",
      "Length of article_titles: 20\n",
      "Length of article_dates: 20\n",
      "Length of article_press: 20\n"
     ]
    },
    {
     "name": "stderr",
     "output_type": "stream",
     "text": [
      "100%|██████████| 20/20 [00:12<00:00,  1.58it/s]"
     ]
    },
    {
     "name": "stdout",
     "output_type": "stream",
     "text": [
      "                                              title       dates    press  \\\n",
      "0                           [2017 국제 핫이슈]블록체인 기술 확산  2017.01.01     전자신문   \n",
      "1                       [신년기획]블록체인, 금융권 넘어 IT기업도 관심  2017.01.01   39면 1단   \n",
      "2   [2017 신년특집] 세계 금융의 대변화-화폐없는 시대가 온다 디지털 가상화폐 ...  2017.01.01   울산매일신문   \n",
      "3                 블록체인 등 최신 핀테크 기술 도입… `금융 한류` 일으키자  2017.01.02   4면 TOP   \n",
      "4                         비트코인, 3년만에 처음으로 1000달러 돌파  2017.01.03     이데일리   \n",
      "5                       '암호화 화폐' 비트코인, 3년만에 1천달러 돌파  2017.01.03   지디넷코리아   \n",
      "6                  비즈니스로 진화한 사이버 범죄, ‘한국형 랜섬웨어’ 현실로  2017.01.03     IT조선   \n",
      "7                             KISA, 암호기술팀·블록체인TF 신설  2017.01.03   아이뉴스24   \n",
      "8                 교황청의 문장.잉글랜드 국기 모두 전쟁에서 만들어진 ‘심벌’  2017.01.03     국방일보   \n",
      "9                                   비트코인 1000달러 넘었다  2017.01.03   A2면 1단   \n",
      "10                          김기춘 위기에 빠트린 사건 세 가지의 결말  2017.01.04    오마이뉴스   \n",
      "11                        비트코인 사상최고가…中 자본통제에 `풍선효과`  2017.01.05     이데일리   \n",
      "12                         비트코인 사상 최고치 경신…관련주 '오름세'  2017.01.05    프라임경제   \n",
      "13             국내 비트코인 역대 최고가 갱신…1비트코인 당 '140만원' 돌파  2017.01.05     케이벤치   \n",
      "14                    돈 대신 인질 요구하는 랜섬웨어, 범행방식 바뀐 이유  2017.01.05  16면 TOP   \n",
      "15                      시작은 ‘최초’지만 나중은 ‘최고’ 되는 기술벤처  2017.01.06     시사저널   \n",
      "16               [2017년 신년기획] 강해진 랜섬웨어, ‘인질극’은 계속된다  2017.01.06   디지털데일리   \n",
      "17                 비트코인 큰손은 중국?… 반나절새 위안화↗비트코인↘ 배후설  2017.01.06     이데일리   \n",
      "18                   '아직도 보험청구서 작성하세요?'…블록체인 기술로 OK  2017.01.07     노컷뉴스   \n",
      "\n",
      "                                                 link  \\\n",
      "0   https://n.news.naver.com/mnews/article/030/000...   \n",
      "1   https://n.news.naver.com/mnews/article/030/000...   \n",
      "2                               http://www.iusm.co.kr   \n",
      "3   https://n.news.naver.com/mnews/article/029/000...   \n",
      "4   https://n.news.naver.com/mnews/article/018/000...   \n",
      "5   https://n.news.naver.com/mnews/article/092/000...   \n",
      "6                               http://it.chosun.com/   \n",
      "7   https://n.news.naver.com/mnews/article/031/000...   \n",
      "8                         http://kookbang.dema.mil.kr   \n",
      "9   https://n.news.naver.com/mnews/article/015/000...   \n",
      "10  https://n.news.naver.com/mnews/article/047/000...   \n",
      "11  https://n.news.naver.com/mnews/article/018/000...   \n",
      "12                         http://www.newsprime.co.kr   \n",
      "13                             http://www.kbench.com/   \n",
      "14  https://n.news.naver.com/mnews/article/029/000...   \n",
      "15                          http://www.sisapress.com/   \n",
      "16  https://n.news.naver.com/mnews/article/138/000...   \n",
      "17  https://n.news.naver.com/mnews/article/018/000...   \n",
      "18  https://n.news.naver.com/mnews/article/079/000...   \n",
      "\n",
      "                                              content                 time  \n",
      "0   \\n\\t\\t\\t블록체인은 `제2의 인터넷` `넥스트 인터넷`으로 불린다. 새해에는 ...  2017-01-01 12:03:13  \n",
      "1   \\n\\t\\t\\t“블록체인은 인터넷 이후 나온 가장 혁신적이며 파괴적인 기술이다.”블...  2017-01-01 16:03:04  \n",
      "2                                                                     None  \n",
      "3   \\n올 세계 은행 80% '블록체인' 도입 전망금융회사 거래 비용 약 30% 절감 ...  2017-01-02 17:04:01  \n",
      "4   \\n\\t\\t\\t[이데일리 김경민 기자] 디지털 화폐인 비트코인 가격이 3년 만에 처...  2017-01-03 07:28:03  \n",
      "5   \\n\\t\\t\\t(지디넷코리아=손경호 기자)전 세계에서 가장 많이 쓰이고 있는 암호화...  2017-01-03 10:49:02  \n",
      "6                                                                     None  \n",
      "7   \\n\\t\\t\\t&lt;아이뉴스24&gt;[아이뉴스24 성지은기자] 한국인터넷진흥원(...  2017-01-03 16:48:03  \n",
      "8                                                                     None  \n",
      "9   \\n2013년 11월 이후 최고\"중국 위안화 약세 때문\"[ 뉴욕=이심기 기자  ] ...  2017-01-03 18:33:58  \n",
      "10  \\n[김당의 나까프 ⑥] '신(新) 김기춘뎐' (3) : '법꾸라지'는 법망을 어떻...  2017-01-04 11:10:02  \n",
      "11  \\n\\t\\t\\t[이데일리 김경민 기자] 디지털 화폐인 비트코인 가격이 3년여 만에 ...  2017-01-05 09:43:03  \n",
      "12                                                                    None  \n",
      "13                                                                    None  \n",
      "14  \\n금품 요구서 수법 갈수록 다양피해 대신할 인질 2명 지목 땐피해자에 복호화 키 ...  2017-01-05 17:06:09  \n",
      "15                                                                    None  \n",
      "16  \\n\\n\\n\\n\\n\\n\\n[2017년 기획/불확실성에 대응하라  보안②][디지털데일...  2017-01-06 14:09:27  \n",
      "17  \\n\\t\\t\\t[이데일리 김형욱 기자] 비트코인이 6일 새벽(아시아 시간 기준) 반...  2017-01-06 15:26:02  \n",
      "18  \\n스타트업 '인슈레스'…블록체인 플랫폼으로 '보험금 자동지급' [CBS노컷뉴스 정...  2017-01-07 05:01:03  \n"
     ]
    },
    {
     "name": "stderr",
     "output_type": "stream",
     "text": [
      "\n"
     ]
    }
   ],
   "source": [
    "search = input(\"검색할 키워드를 입력해주세요:\")\n",
    "start_date = input(\"\\n크롤링할 시작 날짜를 입력해주세요. ex)2022.01.01:\")\n",
    "end_date = input(\"\\n크롤링할 종료 날짜를 입력해주세요. ex)2022.12.31:\")\n",
    "\n",
    "urls = makeUrl(search, start_date, end_date)\n",
    "article_urls, article_titles, article_dates, article_press = get_naver_articles(urls)\n",
    "\n",
    "# 여기서 각 리스트의 길이를 확인합니다.\n",
    "print(\"Length of article_urls:\", len(article_urls))\n",
    "print(\"Length of article_titles:\", len(article_titles))\n",
    "print(\"Length of article_dates:\", len(article_dates))\n",
    "print(\"Length of article_press:\", len(article_press))\n",
    "\n",
    "\n",
    "contents, article_time = get_article_contents(article_urls)  # 이름 변경\n",
    "\n",
    "# 길이가 동일한지 확인\n",
    "if len(article_titles) == len(article_dates)== len(article_press) == len(article_urls) == len(contents):\n",
    "    df = pd.DataFrame({'title': article_titles, 'dates': article_dates,'press': article_press, 'link': article_urls, 'content': contents, 'time' : article_time})\n",
    "    df.drop_duplicates(keep='first', inplace=True, ignore_index=True)\n",
    "    print(df)\n",
    "else:\n",
    "    print(\"The lengths of the lists are not equal. Dataframe cannot be created.\")\n"
   ]
  },
  {
   "cell_type": "code",
   "execution_count": 22,
   "outputs": [
    {
     "data": {
      "text/plain": "                                                title       dates   \n0                  비트코인 4만8000달러 반등, 1시간 동안 1500달러 급등  2022.01.01  \\\n1                      [코인시황] 2021년 마지막 날... 비트코인 상승세  2022.01.01   \n2           [2022년 유망코인] 급성장 중인 테라(LUNA), 투자 리스크는 무엇?  2022.01.01   \n3                       새해 ‘NFT 시장’ 거품 빠지고 가치투자 뿌리내릴까  2022.01.01   \n4     [2022 증시]전문가 84% \"文정부, 부동산 실패\"..올해 집값 ↓· 비트코인 ↑  2022.01.01   \n5            [K-Biz 리뷰] LS일렉트릭, 中 전기차 충전소시장 출사표(1월1일)  2022.01.01   \n6   미국증시 마감 5분전...장중 비트코인 · 비트코인ETF, ETHER '2% 이상씩...  2022.01.01   \n7                   [신년기획-차이나리스크①]'세계의 공장' 흔들…성장률 감소세  2022.01.01   \n8      [2022 블록체인 시대 본격화①] 올해 핵심 키워드 'NFT', 풀어야할 숙제는?  2022.01.01   \n9      뉴욕 증시, 마지막날 이익매물에 하락 마감...다우 0.16%↓ 나스닥 0.61%↓  2022.01.01   \n10    테슬라, 중국서도 20만대 리콜로 하락...뉴욕증시, 오미크론 확산에 약세로 마...  2022.01.01   \n11      다우지수· 나스닥지수 이틀 연속 하락... 테슬라 필라델피아반도체지수 '휘청...  2022.01.01   \n12                    S&P500, 올해 27% ↑ 마감‥비트코인 60% 상승  2022.01.01   \n13                   ‘수익도 종잣돈이 커야…’ 놓치기 아까운 청년 금융상품은?  2022.01.01   \n14            [업비트 주간급등주]스와이프·다드·포튜브·알고랜드·크레딧코인, 뭐길래?  2022.01.01   \n15               [2022년 전망-가상화폐] 비트코인, 10만달러 돌파 가능할까?  2022.01.01   \n16        2021년 암호화폐 시장 지배한 코인은?...1위 샌드박스 16,265% 급등  2022.01.01   \n17                    NFT, 미래 먹거리일까? 엔터업계 ‘들썩’ [기획 ②]  2022.01.01   \n18  [Weekly Coin]비트코인, 반짝 반등 이후 하락세 지속···일론 머스크 '코...  2022.01.01   \n19                  비트코인, 새해 첫날 1%대 약세… 4만6000달러선서 등락  2022.01.01   \n20              연내 10만달러 간다더니 비트코인 4만6000달러로 2021년 마감  2022.01.01   \n21                커피부터 BMW까지…생태계 넓히는 '페이코인'[일상 속 코인①]  2022.01.01   \n22               지난해 가장 많이 오른 암호화폐는 '바이낸스코인' 1300% 폭등  2022.01.01   \n23                    가상자산 새해부터 찬바람…비트코인 4만6000달러대 후퇴  2022.01.01   \n24      비트코인 폭락·필립공 별세 내다본 아스파라거스 예언가가 내놓은 2022년 예...  2022.01.01   \n25          성인영상 유통·마약거래·자금세탁·도박··· 무법지대된 ‘텔레그램·디스...  2022.01.01   \n26             비트코인 투심 악화, 공포→극단적 공포...새해 '1월효과' 나타날까  2022.01.01   \n27                               ﻿[코인 용어사전] 라이트닝 네트워크  2022.01.01   \n28    \"아이디어, 돈, 기술 다 있어도 국내선 다 불가\"...탈출하는 블록체인 기업들...  2022.01.01   \n29               지난해 65% 급등한 비트코인 올해도 랠리할까? '역사적 분수령'  2022.01.01   \n30          [인포그래픽 뉴스/업비트] 숫자로 보는 오늘의 비트·알트코인 (1월 1일)  2022.01.01   \n31                       비트코인, 새해 첫날에도 부진…5700만 원선 거래  2022.01.01   \n32            [업비트 급등주]시빅·스토리지·스팀달러·베이직어텐션토큰·어거, 뭐길래?  2022.01.01   \n33  두나무 코인 시장 공포탐욕 지수 44.43, '중립' 단계…비트코인은 '중립' 단계...  2022.01.01   \n34                           4만% 올랐다…비트코인 주춤, 알트코인 뜬다  2022.01.01   \n35   후오비 거래소, 일론 머스크의 밈코인 도지론 마스(ELON) 상장 발표 외 암호화...  2022.01.01   \n36   [크립토 연간 브리핑] '롤러코스터'탄 가상자산, 2021년은 상승으로 마무리.....  2022.01.01   \n37                   [조화로운 신년 스케치] 코로나 극복하는 '건강한' 재테크  2022.01.01   \n38      [NFT가 온다]② '문제는 높은 변동성'... NFT, 미래 자산 될 수 있을까  2022.01.01   \n39                     [코인마켓뷰] \"올 가상자산 시장 최대화두는 메타버스\"  2022.01.01   \n40                 [가상화폐 시세] 리플 소폭 상승 \"2022년 더 낙관적이다\"  2022.01.01   \n41                           레이븐코인 반감기 카운트다운..10여일 남아  2022.01.01   \n42                          “경제 불확실성 더 커져… 장기적 안목 투자”  2022.01.01   \n43            [코인 투자 분석] 비트코인 주요 지표 살펴보니...\"시장 안정화 중\"  2022.01.01   \n44    '세계 1위 부호' 머스크, 도지코인 지지 재천명...\"비트코인보다 사용성 우수...  2022.01.01   \n45        日 도쿄해상, 스테이블코인 무역결제시스템 개발하나 외 암호화폐·가상통화 ...  2022.01.01   \n46   140달러선 라이트코인 부활 가능할까...\"LTC 네트워크 1억번째 트랜잭션 처리...  2022.01.01   \n47           오미크론 곧 정점통과 NYT \"코로나 종식\" 뉴욕증시 비트코인 \"큰 장\"  2022.01.01   \n48  20억 부동산 vs 10억 주식…\"진짜 부자? 이것 보면 알 수 있죠\" [더인플루언...  2022.01.01   \n49           2021년 사람들이 네이버 국어사전에 가장 많이 검색한 '단어 1위'는?  2022.01.01   \n\n            press                                               link  content   \n0         글로벌이코노믹  http://www.g-enews.com/ko-kr/news/article/news...      NaN  \\\n1          내외경제tv  http://www.nbntv.co.kr/news/articleView.html?i...      NaN   \n2           코인리더스                       http://coinreaders.com/18131      NaN   \n3          4면 TOP  http://news.kmib.co.kr/article/view.asp?arcid=...      NaN   \n4     머니투데이언론사 선정  http://news.mt.co.kr/mtview.php?no=20211231162...      NaN   \n5             더구루  https://www.theguru.co.kr/news/article.html?no...      NaN   \n6           초이스경제  http://www.choicenews.co.kr/news/articleView.h...      NaN   \n7            뉴데일리  https://biz.newdaily.co.kr/site/data/html/2021...      NaN   \n8           글로벌경제  http://www.getnews.co.kr/news/articleView.html...      NaN   \n9             뉴시스  http://www.newsis.com/view/?id=NISX20220101_00...      NaN   \n10          글로벌경제  http://www.getnews.co.kr/news/articleView.html...      NaN   \n11         핀포인트뉴스  http://www.pinpointnews.co.kr/view.php?ud=2022...      NaN   \n12          아시아경제  https://view.asiae.co.kr/article/2022010107444...      NaN   \n13  SBS Biz언론사 선정  https://biz.sbs.co.kr/article_hub/20000044599?...      NaN   \n14         핀포인트뉴스  http://www.pinpointnews.co.kr/view.php?ud=2021...      NaN   \n15         핀포인트뉴스  http://www.pinpointnews.co.kr/view.php?ud=2021...      NaN   \n16          코인리더스                       http://coinreaders.com/18140      NaN   \n17     경향신문언론사 선정  https://www.khan.co.kr/life/life-general/artic...      NaN   \n18       시사저널이코노미  http://www.sisajournal-e.com/news/articleView....      NaN   \n19      머니S언론사 선정  http://moneys.mt.co.kr/news/mwView.php?no=2022...      NaN   \n20            뉴스1             https://www.news1.kr/articles/?4541237      NaN   \n21            뉴시스  http://www.newsis.com/view/?id=NISX20211229_00...      NaN   \n22            뉴스1             https://www.news1.kr/articles/?4541254      NaN   \n23         디지털투데이  http://www.digitaltoday.co.kr/news/articleView...      NaN   \n24           인사이트              https://www.insight.co.kr/news/375701      NaN   \n25   디지털데일리언론사 선정  https://www.ddaily.co.kr/news/article.html?no=...      NaN   \n26          코인리더스                       http://coinreaders.com/18144      NaN   \n27       코인데스크코리아  http://www.coindeskkorea.com/news/articleView....      NaN   \n28        20면 TOP  https://hankookilbo.com/News/Read/A20211229101...      NaN   \n29      뉴스1언론사 선정             https://www.news1.kr/articles/?4541295      NaN   \n30          코인리더스                       http://coinreaders.com/18147      NaN   \n31            더팩트      http://news.tf.co.kr/read/economy/1909710.htm      NaN   \n32         핀포인트뉴스  http://www.pinpointnews.co.kr/view.php?ud=2022...      NaN   \n33          톱스타뉴스  http://www.topstarnews.net/news/articleView.ht...      NaN   \n34     이데일리언론사 선정  http://www.edaily.co.kr/news/newspath.asp?news...      NaN   \n35         블록체인밸리  http://www.fintechpost.co.kr/news/articleView....      NaN   \n36            테크M  https://www.techm.kr/news/articleView.html?idx...      NaN   \n37          서울와이어  http://www.seoulwire.com/news/articleView.html...      NaN   \n38         오피니언뉴스  http://www.opinionnews.co.kr/news/articleView....      NaN   \n39   파이낸셜뉴스언론사 선정      http://www.fnnews.com/news/202201010859315456      NaN   \n40           국제뉴스  http://www.gukjenews.com/news/articleView.html...      NaN   \n41         블록체인밸리  http://www.fintechpost.co.kr/news/articleView....      NaN   \n42         미주한국일보          http://www.koreatimes.com/article/1396028      NaN   \n43       코인데스크코리아  http://www.coindeskkorea.com/news/articleView....      NaN   \n44          코인리더스                       http://coinreaders.com/18161      NaN   \n45         블록체인밸리  http://www.fintechpost.co.kr/news/articleView....      NaN   \n46          코인리더스                       http://coinreaders.com/18164      NaN   \n47        글로벌이코노믹  http://www.g-enews.com/ko-kr/news/article/news...      NaN   \n48     매일경제언론사 선정         https://premium.mk.co.kr/view.php?no=31313      NaN   \n49           위키트리         https://www.wikitree.co.kr/articles/721003      NaN   \n\n    time  \n0    NaN  \n1    NaN  \n2    NaN  \n3    NaN  \n4    NaN  \n5    NaN  \n6    NaN  \n7    NaN  \n8    NaN  \n9    NaN  \n10   NaN  \n11   NaN  \n12   NaN  \n13   NaN  \n14   NaN  \n15   NaN  \n16   NaN  \n17   NaN  \n18   NaN  \n19   NaN  \n20   NaN  \n21   NaN  \n22   NaN  \n23   NaN  \n24   NaN  \n25   NaN  \n26   NaN  \n27   NaN  \n28   NaN  \n29   NaN  \n30   NaN  \n31   NaN  \n32   NaN  \n33   NaN  \n34   NaN  \n35   NaN  \n36   NaN  \n37   NaN  \n38   NaN  \n39   NaN  \n40   NaN  \n41   NaN  \n42   NaN  \n43   NaN  \n44   NaN  \n45   NaN  \n46   NaN  \n47   NaN  \n48   NaN  \n49   NaN  ",
      "text/html": "<div>\n<style scoped>\n    .dataframe tbody tr th:only-of-type {\n        vertical-align: middle;\n    }\n\n    .dataframe tbody tr th {\n        vertical-align: top;\n    }\n\n    .dataframe thead th {\n        text-align: right;\n    }\n</style>\n<table border=\"1\" class=\"dataframe\">\n  <thead>\n    <tr style=\"text-align: right;\">\n      <th></th>\n      <th>title</th>\n      <th>dates</th>\n      <th>press</th>\n      <th>link</th>\n      <th>content</th>\n      <th>time</th>\n    </tr>\n  </thead>\n  <tbody>\n    <tr>\n      <th>0</th>\n      <td>비트코인 4만8000달러 반등, 1시간 동안 1500달러 급등</td>\n      <td>2022.01.01</td>\n      <td>글로벌이코노믹</td>\n      <td>http://www.g-enews.com/ko-kr/news/article/news...</td>\n      <td>NaN</td>\n      <td>NaN</td>\n    </tr>\n    <tr>\n      <th>1</th>\n      <td>[코인시황] 2021년 마지막 날... 비트코인 상승세</td>\n      <td>2022.01.01</td>\n      <td>내외경제tv</td>\n      <td>http://www.nbntv.co.kr/news/articleView.html?i...</td>\n      <td>NaN</td>\n      <td>NaN</td>\n    </tr>\n    <tr>\n      <th>2</th>\n      <td>[2022년 유망코인] 급성장 중인 테라(LUNA), 투자 리스크는 무엇?</td>\n      <td>2022.01.01</td>\n      <td>코인리더스</td>\n      <td>http://coinreaders.com/18131</td>\n      <td>NaN</td>\n      <td>NaN</td>\n    </tr>\n    <tr>\n      <th>3</th>\n      <td>새해 ‘NFT 시장’ 거품 빠지고 가치투자 뿌리내릴까</td>\n      <td>2022.01.01</td>\n      <td>4면 TOP</td>\n      <td>http://news.kmib.co.kr/article/view.asp?arcid=...</td>\n      <td>NaN</td>\n      <td>NaN</td>\n    </tr>\n    <tr>\n      <th>4</th>\n      <td>[2022 증시]전문가 84% \"文정부, 부동산 실패\"..올해 집값 ↓· 비트코인 ↑</td>\n      <td>2022.01.01</td>\n      <td>머니투데이언론사 선정</td>\n      <td>http://news.mt.co.kr/mtview.php?no=20211231162...</td>\n      <td>NaN</td>\n      <td>NaN</td>\n    </tr>\n    <tr>\n      <th>5</th>\n      <td>[K-Biz 리뷰] LS일렉트릭, 中 전기차 충전소시장 출사표(1월1일)</td>\n      <td>2022.01.01</td>\n      <td>더구루</td>\n      <td>https://www.theguru.co.kr/news/article.html?no...</td>\n      <td>NaN</td>\n      <td>NaN</td>\n    </tr>\n    <tr>\n      <th>6</th>\n      <td>미국증시 마감 5분전...장중 비트코인 · 비트코인ETF, ETHER '2% 이상씩...</td>\n      <td>2022.01.01</td>\n      <td>초이스경제</td>\n      <td>http://www.choicenews.co.kr/news/articleView.h...</td>\n      <td>NaN</td>\n      <td>NaN</td>\n    </tr>\n    <tr>\n      <th>7</th>\n      <td>[신년기획-차이나리스크①]'세계의 공장' 흔들…성장률 감소세</td>\n      <td>2022.01.01</td>\n      <td>뉴데일리</td>\n      <td>https://biz.newdaily.co.kr/site/data/html/2021...</td>\n      <td>NaN</td>\n      <td>NaN</td>\n    </tr>\n    <tr>\n      <th>8</th>\n      <td>[2022 블록체인 시대 본격화①] 올해 핵심 키워드 'NFT', 풀어야할 숙제는?</td>\n      <td>2022.01.01</td>\n      <td>글로벌경제</td>\n      <td>http://www.getnews.co.kr/news/articleView.html...</td>\n      <td>NaN</td>\n      <td>NaN</td>\n    </tr>\n    <tr>\n      <th>9</th>\n      <td>뉴욕 증시, 마지막날 이익매물에 하락 마감...다우 0.16%↓ 나스닥 0.61%↓</td>\n      <td>2022.01.01</td>\n      <td>뉴시스</td>\n      <td>http://www.newsis.com/view/?id=NISX20220101_00...</td>\n      <td>NaN</td>\n      <td>NaN</td>\n    </tr>\n    <tr>\n      <th>10</th>\n      <td>테슬라, 중국서도 20만대 리콜로 하락...뉴욕증시, 오미크론 확산에 약세로 마...</td>\n      <td>2022.01.01</td>\n      <td>글로벌경제</td>\n      <td>http://www.getnews.co.kr/news/articleView.html...</td>\n      <td>NaN</td>\n      <td>NaN</td>\n    </tr>\n    <tr>\n      <th>11</th>\n      <td>다우지수· 나스닥지수 이틀 연속 하락... 테슬라 필라델피아반도체지수 '휘청...</td>\n      <td>2022.01.01</td>\n      <td>핀포인트뉴스</td>\n      <td>http://www.pinpointnews.co.kr/view.php?ud=2022...</td>\n      <td>NaN</td>\n      <td>NaN</td>\n    </tr>\n    <tr>\n      <th>12</th>\n      <td>S&amp;P500, 올해 27% ↑ 마감‥비트코인 60% 상승</td>\n      <td>2022.01.01</td>\n      <td>아시아경제</td>\n      <td>https://view.asiae.co.kr/article/2022010107444...</td>\n      <td>NaN</td>\n      <td>NaN</td>\n    </tr>\n    <tr>\n      <th>13</th>\n      <td>‘수익도 종잣돈이 커야…’ 놓치기 아까운 청년 금융상품은?</td>\n      <td>2022.01.01</td>\n      <td>SBS Biz언론사 선정</td>\n      <td>https://biz.sbs.co.kr/article_hub/20000044599?...</td>\n      <td>NaN</td>\n      <td>NaN</td>\n    </tr>\n    <tr>\n      <th>14</th>\n      <td>[업비트 주간급등주]스와이프·다드·포튜브·알고랜드·크레딧코인, 뭐길래?</td>\n      <td>2022.01.01</td>\n      <td>핀포인트뉴스</td>\n      <td>http://www.pinpointnews.co.kr/view.php?ud=2021...</td>\n      <td>NaN</td>\n      <td>NaN</td>\n    </tr>\n    <tr>\n      <th>15</th>\n      <td>[2022년 전망-가상화폐] 비트코인, 10만달러 돌파 가능할까?</td>\n      <td>2022.01.01</td>\n      <td>핀포인트뉴스</td>\n      <td>http://www.pinpointnews.co.kr/view.php?ud=2021...</td>\n      <td>NaN</td>\n      <td>NaN</td>\n    </tr>\n    <tr>\n      <th>16</th>\n      <td>2021년 암호화폐 시장 지배한 코인은?...1위 샌드박스 16,265% 급등</td>\n      <td>2022.01.01</td>\n      <td>코인리더스</td>\n      <td>http://coinreaders.com/18140</td>\n      <td>NaN</td>\n      <td>NaN</td>\n    </tr>\n    <tr>\n      <th>17</th>\n      <td>NFT, 미래 먹거리일까? 엔터업계 ‘들썩’ [기획 ②]</td>\n      <td>2022.01.01</td>\n      <td>경향신문언론사 선정</td>\n      <td>https://www.khan.co.kr/life/life-general/artic...</td>\n      <td>NaN</td>\n      <td>NaN</td>\n    </tr>\n    <tr>\n      <th>18</th>\n      <td>[Weekly Coin]비트코인, 반짝 반등 이후 하락세 지속···일론 머스크 '코...</td>\n      <td>2022.01.01</td>\n      <td>시사저널이코노미</td>\n      <td>http://www.sisajournal-e.com/news/articleView....</td>\n      <td>NaN</td>\n      <td>NaN</td>\n    </tr>\n    <tr>\n      <th>19</th>\n      <td>비트코인, 새해 첫날 1%대 약세… 4만6000달러선서 등락</td>\n      <td>2022.01.01</td>\n      <td>머니S언론사 선정</td>\n      <td>http://moneys.mt.co.kr/news/mwView.php?no=2022...</td>\n      <td>NaN</td>\n      <td>NaN</td>\n    </tr>\n    <tr>\n      <th>20</th>\n      <td>연내 10만달러 간다더니 비트코인 4만6000달러로 2021년 마감</td>\n      <td>2022.01.01</td>\n      <td>뉴스1</td>\n      <td>https://www.news1.kr/articles/?4541237</td>\n      <td>NaN</td>\n      <td>NaN</td>\n    </tr>\n    <tr>\n      <th>21</th>\n      <td>커피부터 BMW까지…생태계 넓히는 '페이코인'[일상 속 코인①]</td>\n      <td>2022.01.01</td>\n      <td>뉴시스</td>\n      <td>http://www.newsis.com/view/?id=NISX20211229_00...</td>\n      <td>NaN</td>\n      <td>NaN</td>\n    </tr>\n    <tr>\n      <th>22</th>\n      <td>지난해 가장 많이 오른 암호화폐는 '바이낸스코인' 1300% 폭등</td>\n      <td>2022.01.01</td>\n      <td>뉴스1</td>\n      <td>https://www.news1.kr/articles/?4541254</td>\n      <td>NaN</td>\n      <td>NaN</td>\n    </tr>\n    <tr>\n      <th>23</th>\n      <td>가상자산 새해부터 찬바람…비트코인 4만6000달러대 후퇴</td>\n      <td>2022.01.01</td>\n      <td>디지털투데이</td>\n      <td>http://www.digitaltoday.co.kr/news/articleView...</td>\n      <td>NaN</td>\n      <td>NaN</td>\n    </tr>\n    <tr>\n      <th>24</th>\n      <td>비트코인 폭락·필립공 별세 내다본 아스파라거스 예언가가 내놓은 2022년 예...</td>\n      <td>2022.01.01</td>\n      <td>인사이트</td>\n      <td>https://www.insight.co.kr/news/375701</td>\n      <td>NaN</td>\n      <td>NaN</td>\n    </tr>\n    <tr>\n      <th>25</th>\n      <td>성인영상 유통·마약거래·자금세탁·도박··· 무법지대된 ‘텔레그램·디스...</td>\n      <td>2022.01.01</td>\n      <td>디지털데일리언론사 선정</td>\n      <td>https://www.ddaily.co.kr/news/article.html?no=...</td>\n      <td>NaN</td>\n      <td>NaN</td>\n    </tr>\n    <tr>\n      <th>26</th>\n      <td>비트코인 투심 악화, 공포→극단적 공포...새해 '1월효과' 나타날까</td>\n      <td>2022.01.01</td>\n      <td>코인리더스</td>\n      <td>http://coinreaders.com/18144</td>\n      <td>NaN</td>\n      <td>NaN</td>\n    </tr>\n    <tr>\n      <th>27</th>\n      <td>﻿[코인 용어사전] 라이트닝 네트워크</td>\n      <td>2022.01.01</td>\n      <td>코인데스크코리아</td>\n      <td>http://www.coindeskkorea.com/news/articleView....</td>\n      <td>NaN</td>\n      <td>NaN</td>\n    </tr>\n    <tr>\n      <th>28</th>\n      <td>\"아이디어, 돈, 기술 다 있어도 국내선 다 불가\"...탈출하는 블록체인 기업들...</td>\n      <td>2022.01.01</td>\n      <td>20면 TOP</td>\n      <td>https://hankookilbo.com/News/Read/A20211229101...</td>\n      <td>NaN</td>\n      <td>NaN</td>\n    </tr>\n    <tr>\n      <th>29</th>\n      <td>지난해 65% 급등한 비트코인 올해도 랠리할까? '역사적 분수령'</td>\n      <td>2022.01.01</td>\n      <td>뉴스1언론사 선정</td>\n      <td>https://www.news1.kr/articles/?4541295</td>\n      <td>NaN</td>\n      <td>NaN</td>\n    </tr>\n    <tr>\n      <th>30</th>\n      <td>[인포그래픽 뉴스/업비트] 숫자로 보는 오늘의 비트·알트코인 (1월 1일)</td>\n      <td>2022.01.01</td>\n      <td>코인리더스</td>\n      <td>http://coinreaders.com/18147</td>\n      <td>NaN</td>\n      <td>NaN</td>\n    </tr>\n    <tr>\n      <th>31</th>\n      <td>비트코인, 새해 첫날에도 부진…5700만 원선 거래</td>\n      <td>2022.01.01</td>\n      <td>더팩트</td>\n      <td>http://news.tf.co.kr/read/economy/1909710.htm</td>\n      <td>NaN</td>\n      <td>NaN</td>\n    </tr>\n    <tr>\n      <th>32</th>\n      <td>[업비트 급등주]시빅·스토리지·스팀달러·베이직어텐션토큰·어거, 뭐길래?</td>\n      <td>2022.01.01</td>\n      <td>핀포인트뉴스</td>\n      <td>http://www.pinpointnews.co.kr/view.php?ud=2022...</td>\n      <td>NaN</td>\n      <td>NaN</td>\n    </tr>\n    <tr>\n      <th>33</th>\n      <td>두나무 코인 시장 공포탐욕 지수 44.43, '중립' 단계…비트코인은 '중립' 단계...</td>\n      <td>2022.01.01</td>\n      <td>톱스타뉴스</td>\n      <td>http://www.topstarnews.net/news/articleView.ht...</td>\n      <td>NaN</td>\n      <td>NaN</td>\n    </tr>\n    <tr>\n      <th>34</th>\n      <td>4만% 올랐다…비트코인 주춤, 알트코인 뜬다</td>\n      <td>2022.01.01</td>\n      <td>이데일리언론사 선정</td>\n      <td>http://www.edaily.co.kr/news/newspath.asp?news...</td>\n      <td>NaN</td>\n      <td>NaN</td>\n    </tr>\n    <tr>\n      <th>35</th>\n      <td>후오비 거래소, 일론 머스크의 밈코인 도지론 마스(ELON) 상장 발표 외 암호화...</td>\n      <td>2022.01.01</td>\n      <td>블록체인밸리</td>\n      <td>http://www.fintechpost.co.kr/news/articleView....</td>\n      <td>NaN</td>\n      <td>NaN</td>\n    </tr>\n    <tr>\n      <th>36</th>\n      <td>[크립토 연간 브리핑] '롤러코스터'탄 가상자산, 2021년은 상승으로 마무리.....</td>\n      <td>2022.01.01</td>\n      <td>테크M</td>\n      <td>https://www.techm.kr/news/articleView.html?idx...</td>\n      <td>NaN</td>\n      <td>NaN</td>\n    </tr>\n    <tr>\n      <th>37</th>\n      <td>[조화로운 신년 스케치] 코로나 극복하는 '건강한' 재테크</td>\n      <td>2022.01.01</td>\n      <td>서울와이어</td>\n      <td>http://www.seoulwire.com/news/articleView.html...</td>\n      <td>NaN</td>\n      <td>NaN</td>\n    </tr>\n    <tr>\n      <th>38</th>\n      <td>[NFT가 온다]② '문제는 높은 변동성'... NFT, 미래 자산 될 수 있을까</td>\n      <td>2022.01.01</td>\n      <td>오피니언뉴스</td>\n      <td>http://www.opinionnews.co.kr/news/articleView....</td>\n      <td>NaN</td>\n      <td>NaN</td>\n    </tr>\n    <tr>\n      <th>39</th>\n      <td>[코인마켓뷰] \"올 가상자산 시장 최대화두는 메타버스\"</td>\n      <td>2022.01.01</td>\n      <td>파이낸셜뉴스언론사 선정</td>\n      <td>http://www.fnnews.com/news/202201010859315456</td>\n      <td>NaN</td>\n      <td>NaN</td>\n    </tr>\n    <tr>\n      <th>40</th>\n      <td>[가상화폐 시세] 리플 소폭 상승 \"2022년 더 낙관적이다\"</td>\n      <td>2022.01.01</td>\n      <td>국제뉴스</td>\n      <td>http://www.gukjenews.com/news/articleView.html...</td>\n      <td>NaN</td>\n      <td>NaN</td>\n    </tr>\n    <tr>\n      <th>41</th>\n      <td>레이븐코인 반감기 카운트다운..10여일 남아</td>\n      <td>2022.01.01</td>\n      <td>블록체인밸리</td>\n      <td>http://www.fintechpost.co.kr/news/articleView....</td>\n      <td>NaN</td>\n      <td>NaN</td>\n    </tr>\n    <tr>\n      <th>42</th>\n      <td>“경제 불확실성 더 커져… 장기적 안목 투자”</td>\n      <td>2022.01.01</td>\n      <td>미주한국일보</td>\n      <td>http://www.koreatimes.com/article/1396028</td>\n      <td>NaN</td>\n      <td>NaN</td>\n    </tr>\n    <tr>\n      <th>43</th>\n      <td>[코인 투자 분석] 비트코인 주요 지표 살펴보니...\"시장 안정화 중\"</td>\n      <td>2022.01.01</td>\n      <td>코인데스크코리아</td>\n      <td>http://www.coindeskkorea.com/news/articleView....</td>\n      <td>NaN</td>\n      <td>NaN</td>\n    </tr>\n    <tr>\n      <th>44</th>\n      <td>'세계 1위 부호' 머스크, 도지코인 지지 재천명...\"비트코인보다 사용성 우수...</td>\n      <td>2022.01.01</td>\n      <td>코인리더스</td>\n      <td>http://coinreaders.com/18161</td>\n      <td>NaN</td>\n      <td>NaN</td>\n    </tr>\n    <tr>\n      <th>45</th>\n      <td>日 도쿄해상, 스테이블코인 무역결제시스템 개발하나 외 암호화폐·가상통화 ...</td>\n      <td>2022.01.01</td>\n      <td>블록체인밸리</td>\n      <td>http://www.fintechpost.co.kr/news/articleView....</td>\n      <td>NaN</td>\n      <td>NaN</td>\n    </tr>\n    <tr>\n      <th>46</th>\n      <td>140달러선 라이트코인 부활 가능할까...\"LTC 네트워크 1억번째 트랜잭션 처리...</td>\n      <td>2022.01.01</td>\n      <td>코인리더스</td>\n      <td>http://coinreaders.com/18164</td>\n      <td>NaN</td>\n      <td>NaN</td>\n    </tr>\n    <tr>\n      <th>47</th>\n      <td>오미크론 곧 정점통과 NYT \"코로나 종식\" 뉴욕증시 비트코인 \"큰 장\"</td>\n      <td>2022.01.01</td>\n      <td>글로벌이코노믹</td>\n      <td>http://www.g-enews.com/ko-kr/news/article/news...</td>\n      <td>NaN</td>\n      <td>NaN</td>\n    </tr>\n    <tr>\n      <th>48</th>\n      <td>20억 부동산 vs 10억 주식…\"진짜 부자? 이것 보면 알 수 있죠\" [더인플루언...</td>\n      <td>2022.01.01</td>\n      <td>매일경제언론사 선정</td>\n      <td>https://premium.mk.co.kr/view.php?no=31313</td>\n      <td>NaN</td>\n      <td>NaN</td>\n    </tr>\n    <tr>\n      <th>49</th>\n      <td>2021년 사람들이 네이버 국어사전에 가장 많이 검색한 '단어 1위'는?</td>\n      <td>2022.01.01</td>\n      <td>위키트리</td>\n      <td>https://www.wikitree.co.kr/articles/721003</td>\n      <td>NaN</td>\n      <td>NaN</td>\n    </tr>\n  </tbody>\n</table>\n</div>"
     },
     "execution_count": 22,
     "metadata": {},
     "output_type": "execute_result"
    }
   ],
   "source": [
    "import pandas as pd\n",
    "pd.read_csv('/Users/kimkirok/projects/go/비트코인/비트코인_20220101_20230830_1.csv')"
   ],
   "metadata": {
    "collapsed": false,
    "ExecuteTime": {
     "start_time": "2023-08-31T05:08:01.178351Z",
     "end_time": "2023-08-31T05:08:01.199999Z"
    }
   }
  },
  {
   "cell_type": "code",
   "execution_count": 29,
   "outputs": [
    {
     "data": {
      "text/plain": "                                                 title       dates   \n0                센골드, 2021년 거래액 1,000억 돌파하며 대안 투자처로 각광  2022.01.28  \\\n1                  비트코인, 4500만원대 횡보 지속…MSTR \"계속 매입할 것\"  2022.01.28   \n2      [크립토 브리핑] 4500만원대 횡보하는 비트코인...가상자산과 주식의 상관관계...  2022.01.28   \n3                  3개월째 이어지는 비트코인 조정, 언제쯤 끝날까 [한경 코알라]  2022.01.28   \n4           [인포그래픽 뉴스/업비트] 숫자로 보는 오늘의 비트·알트코인 (1월 28일)  2022.01.28   \n..                                                 ...         ...   \n295  낙폭 줄이고 있어.. 비트코인 4,620만원 상회.. 이더리움 314만원.. 안갯속...  2022.01.31   \n296    비트코인 와르르 또 급락 가상화폐 ETF 6건 모두 승인 거절 뉴욕증시 선물 부...  2022.01.31   \n297                      ‘가상화폐 줄하락’ 비트코인 4600만원대까지 떨어져  2022.01.31   \n298              비트코인, 4700만원 대에서 하루 만에 4500만원 후반으로 하락  2022.01.31   \n299                       비트코인 4600만원대로 하락…전일보다 2.41%↓  2022.01.31   \n\n          press                                               link   \n0        지디넷코리아  https://n.news.naver.com/mnews/article/092/000...  \\\n1       SBS Biz  https://n.news.naver.com/mnews/article/374/000...   \n2           테크M                                    http://techm.kr   \n3    한국경제언론사 선정  https://n.news.naver.com/mnews/article/015/000...   \n4         코인리더스                             http://coinreaders.com   \n..          ...                                                ...   \n295      매일안전신문                               http://peoplesafe.kr   \n296     글로벌이코노믹                            http://www.g-enews.com/   \n297         뷰어스                        http://www.theviewers.co.kr   \n298        아주경제                             http://www.ajunews.com   \n299     글로벌이코노믹                            http://www.g-enews.com/   \n\n                                               content                 time  \n0    \\n\\t\\t\\t아이티센(대표 박정재, 윤석형)그룹 계열사인 한국금거래소디지털에셋(대...  2022-01-28 10:07:02  \n1    \\n\\n\\n\\n\\n비트코인이 4500원대에서 횡보를 이어가고 있습니다.오늘(28일)...  2022-01-28 10:08:01  \n2                                                  NaN                  NaN  \n3    \\nWeekend Briefing\\n\\n\\n\\n서울 서초구 빗썸 고객지원센터 전광판...  2022-01-28 10:11:01  \n4                                                  NaN                  NaN  \n..                                                 ...                  ...  \n295                                                NaN                  NaN  \n296                                                NaN                  NaN  \n297                                                NaN                  NaN  \n298                                                NaN                  NaN  \n299                                                NaN                  NaN  \n\n[300 rows x 6 columns]",
      "text/html": "<div>\n<style scoped>\n    .dataframe tbody tr th:only-of-type {\n        vertical-align: middle;\n    }\n\n    .dataframe tbody tr th {\n        vertical-align: top;\n    }\n\n    .dataframe thead th {\n        text-align: right;\n    }\n</style>\n<table border=\"1\" class=\"dataframe\">\n  <thead>\n    <tr style=\"text-align: right;\">\n      <th></th>\n      <th>title</th>\n      <th>dates</th>\n      <th>press</th>\n      <th>link</th>\n      <th>content</th>\n      <th>time</th>\n    </tr>\n  </thead>\n  <tbody>\n    <tr>\n      <th>0</th>\n      <td>센골드, 2021년 거래액 1,000억 돌파하며 대안 투자처로 각광</td>\n      <td>2022.01.28</td>\n      <td>지디넷코리아</td>\n      <td>https://n.news.naver.com/mnews/article/092/000...</td>\n      <td>\\n\\t\\t\\t아이티센(대표 박정재, 윤석형)그룹 계열사인 한국금거래소디지털에셋(대...</td>\n      <td>2022-01-28 10:07:02</td>\n    </tr>\n    <tr>\n      <th>1</th>\n      <td>비트코인, 4500만원대 횡보 지속…MSTR \"계속 매입할 것\"</td>\n      <td>2022.01.28</td>\n      <td>SBS Biz</td>\n      <td>https://n.news.naver.com/mnews/article/374/000...</td>\n      <td>\\n\\n\\n\\n\\n비트코인이 4500원대에서 횡보를 이어가고 있습니다.오늘(28일)...</td>\n      <td>2022-01-28 10:08:01</td>\n    </tr>\n    <tr>\n      <th>2</th>\n      <td>[크립토 브리핑] 4500만원대 횡보하는 비트코인...가상자산과 주식의 상관관계...</td>\n      <td>2022.01.28</td>\n      <td>테크M</td>\n      <td>http://techm.kr</td>\n      <td>NaN</td>\n      <td>NaN</td>\n    </tr>\n    <tr>\n      <th>3</th>\n      <td>3개월째 이어지는 비트코인 조정, 언제쯤 끝날까 [한경 코알라]</td>\n      <td>2022.01.28</td>\n      <td>한국경제언론사 선정</td>\n      <td>https://n.news.naver.com/mnews/article/015/000...</td>\n      <td>\\nWeekend Briefing\\n\\n\\n\\n서울 서초구 빗썸 고객지원센터 전광판...</td>\n      <td>2022-01-28 10:11:01</td>\n    </tr>\n    <tr>\n      <th>4</th>\n      <td>[인포그래픽 뉴스/업비트] 숫자로 보는 오늘의 비트·알트코인 (1월 28일)</td>\n      <td>2022.01.28</td>\n      <td>코인리더스</td>\n      <td>http://coinreaders.com</td>\n      <td>NaN</td>\n      <td>NaN</td>\n    </tr>\n    <tr>\n      <th>...</th>\n      <td>...</td>\n      <td>...</td>\n      <td>...</td>\n      <td>...</td>\n      <td>...</td>\n      <td>...</td>\n    </tr>\n    <tr>\n      <th>295</th>\n      <td>낙폭 줄이고 있어.. 비트코인 4,620만원 상회.. 이더리움 314만원.. 안갯속...</td>\n      <td>2022.01.31</td>\n      <td>매일안전신문</td>\n      <td>http://peoplesafe.kr</td>\n      <td>NaN</td>\n      <td>NaN</td>\n    </tr>\n    <tr>\n      <th>296</th>\n      <td>비트코인 와르르 또 급락 가상화폐 ETF 6건 모두 승인 거절 뉴욕증시 선물 부...</td>\n      <td>2022.01.31</td>\n      <td>글로벌이코노믹</td>\n      <td>http://www.g-enews.com/</td>\n      <td>NaN</td>\n      <td>NaN</td>\n    </tr>\n    <tr>\n      <th>297</th>\n      <td>‘가상화폐 줄하락’ 비트코인 4600만원대까지 떨어져</td>\n      <td>2022.01.31</td>\n      <td>뷰어스</td>\n      <td>http://www.theviewers.co.kr</td>\n      <td>NaN</td>\n      <td>NaN</td>\n    </tr>\n    <tr>\n      <th>298</th>\n      <td>비트코인, 4700만원 대에서 하루 만에 4500만원 후반으로 하락</td>\n      <td>2022.01.31</td>\n      <td>아주경제</td>\n      <td>http://www.ajunews.com</td>\n      <td>NaN</td>\n      <td>NaN</td>\n    </tr>\n    <tr>\n      <th>299</th>\n      <td>비트코인 4600만원대로 하락…전일보다 2.41%↓</td>\n      <td>2022.01.31</td>\n      <td>글로벌이코노믹</td>\n      <td>http://www.g-enews.com/</td>\n      <td>NaN</td>\n      <td>NaN</td>\n    </tr>\n  </tbody>\n</table>\n<p>300 rows × 6 columns</p>\n</div>"
     },
     "execution_count": 29,
     "metadata": {},
     "output_type": "execute_result"
    }
   ],
   "source": [
    "import pandas as pd\n",
    "pd.read_csv('비트코인_20220124_20230830_9.csv')"
   ],
   "metadata": {
    "collapsed": false,
    "ExecuteTime": {
     "start_time": "2023-08-31T08:28:33.441233Z",
     "end_time": "2023-08-31T08:28:33.480932Z"
    }
   }
  },
  {
   "cell_type": "code",
   "execution_count": 13,
   "outputs": [
    {
     "data": {
      "text/plain": "                                              title       dates        press   \n0                비트코인 4만8000달러 반등, 1시간 동안 1500달러 급등  2022.01.01      글로벌이코노믹  \\\n1                    [코인시황] 2021년 마지막 날... 비트코인 상승세  2022.01.01       내외경제tv   \n2         [2022년 유망코인] 급성장 중인 테라(LUNA), 투자 리스크는 무엇?  2022.01.01        코인리더스   \n3                     새해 ‘NFT 시장’ 거품 빠지고 가치투자 뿌리내릴까  2022.01.01       4면 TOP   \n4   [2022 증시]전문가 84% \"文정부, 부동산 실패\"..올해 집값 ↓· 비트코인 ↑  2022.01.01  머니투데이언론사 선정   \n..                                              ...         ...          ...   \n95                  암호화폐 상속·증여받으면 2개월 평균價 따져 세금 냅니다  2022.01.02      A23면 1단   \n96                        디파이야, 디파이야…코인 맡길게, 이자 다오~  2022.01.02      A23면 1단   \n97                   [코인시황] 비트코인 횡보 속 파워렛저(POWR) 급등  2022.01.02       내외경제tv   \n98                         \"보험도 가상자산 활용…투자·지급 수단으로\"  2022.01.02      A18면 1단   \n99             [데일리픽] 5G 가입자 2000만명 돌파…3일부터 방역패스 적용  2022.01.02       디지털투데이   \n\n                                                 link   \n0                             http://www.g-enews.com/  \\\n1                              http://www.nbntv.co.kr   \n2                              http://coinreaders.com   \n3   https://n.news.naver.com/mnews/article/005/000...   \n4   https://n.news.naver.com/mnews/article/008/000...   \n..                                                ...   \n95  https://n.news.naver.com/mnews/article/015/000...   \n96  https://n.news.naver.com/mnews/article/015/000...   \n97                             http://www.nbntv.co.kr   \n98  https://n.news.naver.com/mnews/article/009/000...   \n99                     http://www.digitaltoday.co.kr/   \n\n                                              content                 time  \n0                                                 NaN                  NaN  \n1                                                 NaN                  NaN  \n2                                                 NaN                  NaN  \n3   \\n2006년 날린 최초의 트윗 34억원이세돌·알파고 겨룬 기보 2.5억원스토리텔링...  2022-01-01 04:03:01  \n4   \\n\\n\\n\\n\\n증시 전문가들은 올해 부동산 가격이 서울은 오르지만 나머지 지역에...  2022-01-01 04:31:00  \n..                                                ...                  ...  \n95  \\n2022 주식투자 가이드양도세 과세는 내년으로 연기올해부터 코인을 상속·증여받으...  2022-01-02 17:01:01  \n96  \\n2022 주식투자 가이드디파이 플랫폼이 이자 지급원금보장 안 되고 도난 사례도한...  2022-01-02 17:01:02  \n97                                                NaN                  NaN  \n98  \\n보험연구원 보고서보험산업이 가상자산을 적극 활용해야 한다는 주장이 제기됐다.황인...  2022-01-02 18:09:04  \n99                                                NaN                  NaN  \n\n[100 rows x 6 columns]",
      "text/html": "<div>\n<style scoped>\n    .dataframe tbody tr th:only-of-type {\n        vertical-align: middle;\n    }\n\n    .dataframe tbody tr th {\n        vertical-align: top;\n    }\n\n    .dataframe thead th {\n        text-align: right;\n    }\n</style>\n<table border=\"1\" class=\"dataframe\">\n  <thead>\n    <tr style=\"text-align: right;\">\n      <th></th>\n      <th>title</th>\n      <th>dates</th>\n      <th>press</th>\n      <th>link</th>\n      <th>content</th>\n      <th>time</th>\n    </tr>\n  </thead>\n  <tbody>\n    <tr>\n      <th>0</th>\n      <td>비트코인 4만8000달러 반등, 1시간 동안 1500달러 급등</td>\n      <td>2022.01.01</td>\n      <td>글로벌이코노믹</td>\n      <td>http://www.g-enews.com/</td>\n      <td>NaN</td>\n      <td>NaN</td>\n    </tr>\n    <tr>\n      <th>1</th>\n      <td>[코인시황] 2021년 마지막 날... 비트코인 상승세</td>\n      <td>2022.01.01</td>\n      <td>내외경제tv</td>\n      <td>http://www.nbntv.co.kr</td>\n      <td>NaN</td>\n      <td>NaN</td>\n    </tr>\n    <tr>\n      <th>2</th>\n      <td>[2022년 유망코인] 급성장 중인 테라(LUNA), 투자 리스크는 무엇?</td>\n      <td>2022.01.01</td>\n      <td>코인리더스</td>\n      <td>http://coinreaders.com</td>\n      <td>NaN</td>\n      <td>NaN</td>\n    </tr>\n    <tr>\n      <th>3</th>\n      <td>새해 ‘NFT 시장’ 거품 빠지고 가치투자 뿌리내릴까</td>\n      <td>2022.01.01</td>\n      <td>4면 TOP</td>\n      <td>https://n.news.naver.com/mnews/article/005/000...</td>\n      <td>\\n2006년 날린 최초의 트윗 34억원이세돌·알파고 겨룬 기보 2.5억원스토리텔링...</td>\n      <td>2022-01-01 04:03:01</td>\n    </tr>\n    <tr>\n      <th>4</th>\n      <td>[2022 증시]전문가 84% \"文정부, 부동산 실패\"..올해 집값 ↓· 비트코인 ↑</td>\n      <td>2022.01.01</td>\n      <td>머니투데이언론사 선정</td>\n      <td>https://n.news.naver.com/mnews/article/008/000...</td>\n      <td>\\n\\n\\n\\n\\n증시 전문가들은 올해 부동산 가격이 서울은 오르지만 나머지 지역에...</td>\n      <td>2022-01-01 04:31:00</td>\n    </tr>\n    <tr>\n      <th>...</th>\n      <td>...</td>\n      <td>...</td>\n      <td>...</td>\n      <td>...</td>\n      <td>...</td>\n      <td>...</td>\n    </tr>\n    <tr>\n      <th>95</th>\n      <td>암호화폐 상속·증여받으면 2개월 평균價 따져 세금 냅니다</td>\n      <td>2022.01.02</td>\n      <td>A23면 1단</td>\n      <td>https://n.news.naver.com/mnews/article/015/000...</td>\n      <td>\\n2022 주식투자 가이드양도세 과세는 내년으로 연기올해부터 코인을 상속·증여받으...</td>\n      <td>2022-01-02 17:01:01</td>\n    </tr>\n    <tr>\n      <th>96</th>\n      <td>디파이야, 디파이야…코인 맡길게, 이자 다오~</td>\n      <td>2022.01.02</td>\n      <td>A23면 1단</td>\n      <td>https://n.news.naver.com/mnews/article/015/000...</td>\n      <td>\\n2022 주식투자 가이드디파이 플랫폼이 이자 지급원금보장 안 되고 도난 사례도한...</td>\n      <td>2022-01-02 17:01:02</td>\n    </tr>\n    <tr>\n      <th>97</th>\n      <td>[코인시황] 비트코인 횡보 속 파워렛저(POWR) 급등</td>\n      <td>2022.01.02</td>\n      <td>내외경제tv</td>\n      <td>http://www.nbntv.co.kr</td>\n      <td>NaN</td>\n      <td>NaN</td>\n    </tr>\n    <tr>\n      <th>98</th>\n      <td>\"보험도 가상자산 활용…투자·지급 수단으로\"</td>\n      <td>2022.01.02</td>\n      <td>A18면 1단</td>\n      <td>https://n.news.naver.com/mnews/article/009/000...</td>\n      <td>\\n보험연구원 보고서보험산업이 가상자산을 적극 활용해야 한다는 주장이 제기됐다.황인...</td>\n      <td>2022-01-02 18:09:04</td>\n    </tr>\n    <tr>\n      <th>99</th>\n      <td>[데일리픽] 5G 가입자 2000만명 돌파…3일부터 방역패스 적용</td>\n      <td>2022.01.02</td>\n      <td>디지털투데이</td>\n      <td>http://www.digitaltoday.co.kr/</td>\n      <td>NaN</td>\n      <td>NaN</td>\n    </tr>\n  </tbody>\n</table>\n<p>100 rows × 6 columns</p>\n</div>"
     },
     "execution_count": 13,
     "metadata": {},
     "output_type": "execute_result"
    }
   ],
   "source": [
    "import pandas as pd\n",
    "pd.read_csv('비트코인_20220101_20230830.csv')"
   ],
   "metadata": {
    "collapsed": false,
    "ExecuteTime": {
     "start_time": "2023-08-31T03:15:17.715186Z",
     "end_time": "2023-08-31T03:15:17.764413Z"
    }
   }
  },
  {
   "cell_type": "code",
   "execution_count": 12,
   "outputs": [],
   "source": [
    "import os\n",
    "folder_path=os.getcwd()+'/비트코인 2023'\n",
    "\n",
    "file_list=os.listdir(folder_path)"
   ],
   "metadata": {
    "collapsed": false,
    "ExecuteTime": {
     "start_time": "2023-09-06T15:47:51.673059Z",
     "end_time": "2023-09-06T15:47:51.681301Z"
    }
   }
  },
  {
   "cell_type": "code",
   "execution_count": 13,
   "outputs": [
    {
     "data": {
      "text/plain": "63"
     },
     "execution_count": 13,
     "metadata": {},
     "output_type": "execute_result"
    }
   ],
   "source": [
    "len(file_list)"
   ],
   "metadata": {
    "collapsed": false,
    "ExecuteTime": {
     "start_time": "2023-09-06T15:47:52.414363Z",
     "end_time": "2023-09-06T15:47:52.421942Z"
    }
   }
  },
  {
   "cell_type": "code",
   "execution_count": 14,
   "outputs": [],
   "source": [
    "import pandas as pd\n",
    "a=pd.read_csv(folder_path+'/'+file_list[0])\n"
   ],
   "metadata": {
    "collapsed": false,
    "ExecuteTime": {
     "start_time": "2023-09-06T15:47:53.879598Z",
     "end_time": "2023-09-06T15:47:53.907008Z"
    }
   }
  },
  {
   "cell_type": "code",
   "execution_count": 15,
   "outputs": [
    {
     "name": "stdout",
     "output_type": "stream",
     "text": [
      "0 비트코인_20230118_20230830_4.csv\n",
      "1 비트코인_20230412_20230830_2.csv\n",
      "2 비트코인_20230118_20230830_3.csv\n",
      "3 비트코인_20230118_20230830_2.csv\n",
      "4 비트코인_20230412_20230830_3.csv\n",
      "5 비트코인_20230412_20230830_1.csv\n",
      "6 비트코인_20230118_20230830_1.csv\n",
      "7 비트코인_20230823_20230830_3.csv\n",
      "8 비트코인_20230513_20230830_1.csv\n",
      "9 비트코인_20230823_20230830_2.csv\n",
      "10 비트코인_20230513_20230830_2.csv\n",
      "11 비트코인_20230330_20230830_4.csv\n",
      "12 비트코인_20230724_20230830_4.csv\n",
      "13 비트코인_20230823_20230830_1.csv\n",
      "14 비트코인_20230513_20230830_3.csv\n",
      "15 비트코인_20230101_20230830_4.csv\n",
      "16 비트코인_20230101_20230830_1-1.csv\n",
      "17 비트코인_20230724_20230830_1.csv\n",
      "18 비트코인_20230330_20230830_1.csv\n",
      "19 비트코인_20230101_20230830_1.csv\n",
      "20 비트코인_20230101_20230830_1-2.csv\n",
      "21 비트코인_20230101_20230830_3.csv\n",
      "22 비트코인_20230513_20230830_4.csv\n",
      "23 비트코인_20230724_20230830_2.csv\n",
      "24 비트코인_20230330_20230830_2.csv\n",
      "25 비트코인_20230330_20230830_3.csv\n",
      "26 비트코인_20230724_20230830_3.csv\n",
      "27 비트코인_20230101_20230830_2.csv\n",
      "28 비트코인_20230811_20230830_1.csv\n",
      "29 비트코인_20230317_20230830_4.csv\n",
      "30 비트코인_20230704_20230830_4.csv\n",
      "31 비트코인_20230317_20230830_3.csv\n",
      "32 비트코인_20230317_20230830_2.csv\n",
      "33 비트코인_20230704_20230830_1.csv\n",
      "34 비트코인_20230704_20230830_3.csv\n",
      "35 비트코인_20230818_20230830_1.csv\n",
      "36 비트코인_20230317_20230830_1.csv\n",
      "37 비트코인_20230704_20230830_2.csv\n",
      "38 비트코인_20230426_20230830_1.csv\n",
      "39 비트코인_20230219_20230830_2.csv\n",
      "40 비트코인_20230203_20230830_1.csv\n",
      "41 비트코인_20230219_20230830_3.csv\n",
      "42 비트코인_20230531_20230830_4.csv\n",
      "43 비트코인_20230309_20230830_4.csv\n",
      "44 비트코인_20230426_20230830_2.csv\n",
      "45 비트코인_20230219_20230830_1.csv\n",
      "46 비트코인_20230203_20230830_3.csv\n",
      "47 비트코인_20230203_20230830_2.csv\n",
      "48 비트코인_20230426_20230830_3.csv\n",
      "49 비트코인_20230619_20230830_4.csv\n",
      "50 비트코인_20230309_20230830_3.csv\n",
      "51 비트코인_20230531_20230830_3.csv\n",
      "52 비트코인_20230219_20230830_4.csv\n",
      "53 비트코인_20230531_20230830_2.csv\n",
      "54 비트코인_20230619_20230830_1.csv\n",
      "55 비트코인_20230309_20230830_2.csv\n",
      "56 비트코인_20230619_20230830_3.csv\n",
      "57 비트코인_20230426_20230830_4.csv\n",
      "58 비트코인_20230203_20230830_4.csv\n",
      "59 비트코인_20230531_20230830_1.csv\n",
      "60 비트코인_20230619_20230830_2.csv\n",
      "61 비트코인_20230309_20230830_1.csv\n"
     ]
    }
   ],
   "source": [
    "for i, c in enumerate(file_list[1:]):\n",
    "    if c.endswith('.csv'):\n",
    "        print(i,c)\n",
    "        a = pd.concat([a, pd.read_csv(os.path.join(folder_path, c))])\n"
   ],
   "metadata": {
    "collapsed": false,
    "ExecuteTime": {
     "start_time": "2023-09-06T15:47:54.721816Z",
     "end_time": "2023-09-06T15:47:55.564932Z"
    }
   }
  },
  {
   "cell_type": "code",
   "execution_count": 16,
   "outputs": [],
   "source": [
    "a['dates'] = pd.to_datetime(a['dates'])\n",
    "sorted_df = a.sort_values(by='dates', ascending=True)"
   ],
   "metadata": {
    "collapsed": false,
    "ExecuteTime": {
     "start_time": "2023-09-06T15:47:59.077413Z",
     "end_time": "2023-09-06T15:47:59.091908Z"
    }
   }
  },
  {
   "cell_type": "code",
   "execution_count": 17,
   "outputs": [],
   "source": [
    "sorted_df.drop_duplicates(keep='first', inplace=True, ignore_index=True)"
   ],
   "metadata": {
    "collapsed": false,
    "ExecuteTime": {
     "start_time": "2023-09-06T15:48:01.099705Z",
     "end_time": "2023-09-06T15:48:01.142624Z"
    }
   }
  },
  {
   "cell_type": "code",
   "execution_count": 18,
   "outputs": [],
   "source": [
    "sorted_df.to_csv(os.getcwd()+'/'+'비트코인 통합 2023/'+'비트코인 2023.csv')"
   ],
   "metadata": {
    "collapsed": false,
    "ExecuteTime": {
     "start_time": "2023-09-06T15:48:01.550042Z",
     "end_time": "2023-09-06T15:48:02.199446Z"
    }
   }
  },
  {
   "cell_type": "code",
   "execution_count": 19,
   "outputs": [],
   "source": [
    "import numpy as np"
   ],
   "metadata": {
    "collapsed": false,
    "ExecuteTime": {
     "start_time": "2023-09-06T15:48:03.476288Z",
     "end_time": "2023-09-06T15:48:03.485007Z"
    }
   }
  },
  {
   "cell_type": "code",
   "execution_count": 20,
   "outputs": [
    {
     "name": "stdout",
     "output_type": "stream",
     "text": [
      "2023\n",
      "전체갯수 26899\n",
      "기사내용 있는 것 8667\n"
     ]
    }
   ],
   "source": [
    "print(2023)\n",
    "print('전체갯수',len(sorted_df))\n",
    "print('기사내용 있는 것',len(sorted_df[sorted_df['content'].notna()]))"
   ],
   "metadata": {
    "collapsed": false,
    "ExecuteTime": {
     "start_time": "2023-09-06T15:48:04.491464Z",
     "end_time": "2023-09-06T15:48:04.513400Z"
    }
   }
  },
  {
   "cell_type": "code",
   "execution_count": 21,
   "outputs": [
    {
     "data": {
      "text/plain": "                                                 title      dates    press   \n0                             리플, 연초부터 가상자산 하락하자 동반 추락 2023-01-01     국제뉴스  \\\n1         비트코인과 이더리움 차분한 흐름..계묘년에는 제도적 정비와 성투하길..리스... 2023-01-01   매일안전신문   \n2         비트코인, 2022년 16,587달러로 거래 마감...\"올해도 힘든 해 될 것\" 2023-01-01    코인리더스   \n3                         FTX 창업자 샘 뱅크먼-프리드, 다음주 재판 시작 2023-01-01   라디오코리아   \n4          [아듀2022 ②] 머지부터 FTX 파산까지...올해의 주요 이슈 TOP 10 2023-01-01    토큰포스트   \n...                                                ...        ...      ...   \n26894    [토큰포스트 오후 브리핑] 비트코인 초기 개발자, 비트코인 네트워크에 '드라... 2023-08-23    토큰포스트   \n26895                    마크 큐반 ”오픈씨, 로열티 시스템 폐지는 큰 실수” 2023-08-23    코인리더스   \n26896             '소옆경2' 김래원이 체포해야 할 최종 빌런, '덱스'는 누구인가 2023-08-23  SBS연예뉴스   \n26897  [토큰포스트 뉴욕 브리핑] 비트코인 초기 개발자, BTC 사이드체인 도입 제안 ... 2023-08-23    토큰포스트   \n26898                   위험 자산 선호 위축에 비트코인 '주춤' 3500만원대 2023-08-23      뉴시스   \n\n                                                    link   \n0                              http://www.gukjenews.com/  \\\n1                                   http://peoplesafe.kr   \n2                                 http://coinreaders.com   \n3                              http://www.radiokorea.com   \n4                               https://www.tokenpost.kr   \n...                                                  ...   \n26894                           https://www.tokenpost.kr   \n26895                             http://coinreaders.com   \n26896  https://n.news.naver.com/mnews/article/416/000...   \n26897                           https://www.tokenpost.kr   \n26898  https://n.news.naver.com/mnews/article/003/001...   \n\n                                                 content                  time  \n0                                                    NaN                   NaN  \n1                                                    NaN                   NaN  \n2                                                    NaN                   NaN  \n3                                                    NaN                   NaN  \n4                                                    NaN                   NaN  \n...                                                  ...                   ...  \n26894                                                NaN                   NaN  \n26895                                                NaN                   NaN  \n26896  \\n \\n[SBS연예뉴스 | 강선애 기자] '소방서 옆 경찰서 그리고 국과수'의 최...  2023.08.23. 오전 10:45  \n26897                                                NaN                   NaN  \n26898  \\n\\n\\n\\n\\n[서울=뉴시스] 최진석 기자 = 비트코인이 지난주 미 연방공개시장...   2023-08-23 15:40:20  \n\n[26899 rows x 6 columns]",
      "text/html": "<div>\n<style scoped>\n    .dataframe tbody tr th:only-of-type {\n        vertical-align: middle;\n    }\n\n    .dataframe tbody tr th {\n        vertical-align: top;\n    }\n\n    .dataframe thead th {\n        text-align: right;\n    }\n</style>\n<table border=\"1\" class=\"dataframe\">\n  <thead>\n    <tr style=\"text-align: right;\">\n      <th></th>\n      <th>title</th>\n      <th>dates</th>\n      <th>press</th>\n      <th>link</th>\n      <th>content</th>\n      <th>time</th>\n    </tr>\n  </thead>\n  <tbody>\n    <tr>\n      <th>0</th>\n      <td>리플, 연초부터 가상자산 하락하자 동반 추락</td>\n      <td>2023-01-01</td>\n      <td>국제뉴스</td>\n      <td>http://www.gukjenews.com/</td>\n      <td>NaN</td>\n      <td>NaN</td>\n    </tr>\n    <tr>\n      <th>1</th>\n      <td>비트코인과 이더리움 차분한 흐름..계묘년에는 제도적 정비와 성투하길..리스...</td>\n      <td>2023-01-01</td>\n      <td>매일안전신문</td>\n      <td>http://peoplesafe.kr</td>\n      <td>NaN</td>\n      <td>NaN</td>\n    </tr>\n    <tr>\n      <th>2</th>\n      <td>비트코인, 2022년 16,587달러로 거래 마감...\"올해도 힘든 해 될 것\"</td>\n      <td>2023-01-01</td>\n      <td>코인리더스</td>\n      <td>http://coinreaders.com</td>\n      <td>NaN</td>\n      <td>NaN</td>\n    </tr>\n    <tr>\n      <th>3</th>\n      <td>FTX 창업자 샘 뱅크먼-프리드, 다음주 재판 시작</td>\n      <td>2023-01-01</td>\n      <td>라디오코리아</td>\n      <td>http://www.radiokorea.com</td>\n      <td>NaN</td>\n      <td>NaN</td>\n    </tr>\n    <tr>\n      <th>4</th>\n      <td>[아듀2022 ②] 머지부터 FTX 파산까지...올해의 주요 이슈 TOP 10</td>\n      <td>2023-01-01</td>\n      <td>토큰포스트</td>\n      <td>https://www.tokenpost.kr</td>\n      <td>NaN</td>\n      <td>NaN</td>\n    </tr>\n    <tr>\n      <th>...</th>\n      <td>...</td>\n      <td>...</td>\n      <td>...</td>\n      <td>...</td>\n      <td>...</td>\n      <td>...</td>\n    </tr>\n    <tr>\n      <th>26894</th>\n      <td>[토큰포스트 오후 브리핑] 비트코인 초기 개발자, 비트코인 네트워크에 '드라...</td>\n      <td>2023-08-23</td>\n      <td>토큰포스트</td>\n      <td>https://www.tokenpost.kr</td>\n      <td>NaN</td>\n      <td>NaN</td>\n    </tr>\n    <tr>\n      <th>26895</th>\n      <td>마크 큐반 ”오픈씨, 로열티 시스템 폐지는 큰 실수”</td>\n      <td>2023-08-23</td>\n      <td>코인리더스</td>\n      <td>http://coinreaders.com</td>\n      <td>NaN</td>\n      <td>NaN</td>\n    </tr>\n    <tr>\n      <th>26896</th>\n      <td>'소옆경2' 김래원이 체포해야 할 최종 빌런, '덱스'는 누구인가</td>\n      <td>2023-08-23</td>\n      <td>SBS연예뉴스</td>\n      <td>https://n.news.naver.com/mnews/article/416/000...</td>\n      <td>\\n \\n[SBS연예뉴스 | 강선애 기자] '소방서 옆 경찰서 그리고 국과수'의 최...</td>\n      <td>2023.08.23. 오전 10:45</td>\n    </tr>\n    <tr>\n      <th>26897</th>\n      <td>[토큰포스트 뉴욕 브리핑] 비트코인 초기 개발자, BTC 사이드체인 도입 제안 ...</td>\n      <td>2023-08-23</td>\n      <td>토큰포스트</td>\n      <td>https://www.tokenpost.kr</td>\n      <td>NaN</td>\n      <td>NaN</td>\n    </tr>\n    <tr>\n      <th>26898</th>\n      <td>위험 자산 선호 위축에 비트코인 '주춤' 3500만원대</td>\n      <td>2023-08-23</td>\n      <td>뉴시스</td>\n      <td>https://n.news.naver.com/mnews/article/003/001...</td>\n      <td>\\n\\n\\n\\n\\n[서울=뉴시스] 최진석 기자 = 비트코인이 지난주 미 연방공개시장...</td>\n      <td>2023-08-23 15:40:20</td>\n    </tr>\n  </tbody>\n</table>\n<p>26899 rows × 6 columns</p>\n</div>"
     },
     "execution_count": 21,
     "metadata": {},
     "output_type": "execute_result"
    }
   ],
   "source": [
    "sorted_df"
   ],
   "metadata": {
    "collapsed": false,
    "ExecuteTime": {
     "start_time": "2023-09-06T15:48:07.388331Z",
     "end_time": "2023-09-06T15:48:07.391975Z"
    }
   }
  },
  {
   "cell_type": "code",
   "execution_count": null,
   "outputs": [],
   "source": [],
   "metadata": {
    "collapsed": false
   }
  }
 ],
 "metadata": {
  "kernelspec": {
   "display_name": "base",
   "language": "python",
   "name": "python3"
  },
  "language_info": {
   "codemirror_mode": {
    "name": "ipython",
    "version": 3
   },
   "file_extension": ".py",
   "mimetype": "text/x-python",
   "name": "python",
   "nbconvert_exporter": "python",
   "pygments_lexer": "ipython3",
   "version": "3.8.5"
  },
  "orig_nbformat": 4
 },
 "nbformat": 4,
 "nbformat_minor": 2
}
